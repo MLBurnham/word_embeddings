{
 "cells": [
  {
   "cell_type": "code",
   "execution_count": 101,
   "metadata": {},
   "outputs": [],
   "source": [
    "os.chdir('/home/mike/Desktop/Word Embeddings')\n",
    "import os\n",
    "import pandas as pd\n",
    "import pickle\n",
    "\n",
    "os.chdir('./Text Processing')\n",
    "from TextPrep import TextPrep\n",
    "\n",
    "os.chdir('../Meta Data')\n",
    "from key_words import key_words, key_synonyms\n",
    "from stop_words import stop_words\n",
    "os.chdir('..')"
   ]
  },
  {
   "cell_type": "code",
   "execution_count": 102,
   "metadata": {},
   "outputs": [],
   "source": [
    "# load in data\n",
    "meta_data = pd.read_csv('Meta Data/meta_data.csv')\n",
    "tweet_df = pd.read_csv('Data/aggregated_tweets.csv')\n",
    "# merge data with meta data\n",
    "tweet_df = pd.merge(tweet_df, meta_data, how = 'inner', on = 'user_id')\n",
    "tweet_df = tweet_df[tweet_df.party.isin(['R', 'D'])].reset_index(drop=True)\n",
    "\n",
    "tweets = tweet_df['text']\n",
    "labels = tweet_df['party']\n",
    "\n",
    "# initialize parser\n",
    "prep = TextPrep(stopwords = stop_words, key_words = key_words, key_synonyms = key_synonyms)"
   ]
  },
  {
   "cell_type": "code",
   "execution_count": 104,
   "metadata": {
    "collapsed": true,
    "jupyter": {
     "outputs_hidden": true
    }
   },
   "outputs": [
    {
     "name": "stdout",
     "output_type": "stream",
     "text": [
      "CPU times: user 5min 16s, sys: 22.2 s, total: 5min 38s\n",
      "Wall time: 1min 50s\n"
     ]
    },
    {
     "data": {
      "text/plain": [
       "[['not',\n",
       "  'long',\n",
       "  'vote',\n",
       "  'impeachment',\n",
       "  'inquiry',\n",
       "  'open',\n",
       "  'transparent',\n",
       "  'today',\n",
       "  'h',\n",
       "  're',\n",
       "  'learn',\n",
       "  'numerous',\n",
       "  'closed',\n",
       "  'deposition',\n",
       "  'take',\n",
       "  'place',\n",
       "  'week',\n",
       "  's',\n",
       "  'surprising',\n",
       "  'stoptheschiffshow'],\n",
       " ['look',\n",
       "  'forward',\n",
       "  'show',\n",
       "  'repmarkgreen',\n",
       "  'fl',\n",
       "  'week',\n",
       "  'amp',\n",
       "  'introduce',\n",
       "  'outstanding',\n",
       "  'veteran',\n",
       "  'community',\n",
       "  'florida'],\n",
       " ['yes',\n",
       "  'vote',\n",
       "  'resolution',\n",
       "  'give',\n",
       "  'stamp',\n",
       "  'approval',\n",
       "  'process',\n",
       "  'damage',\n",
       "  'repair',\n",
       "  'watch',\n",
       "  'floor',\n",
       "  'speech',\n",
       "  'morning',\n",
       "  'florida',\n",
       "  'fl',\n",
       "  'impeachmentinquiry'],\n",
       " ['house',\n",
       "  'vote',\n",
       "  'resolution',\n",
       "  'formalize',\n",
       "  'impeachmentinquiry',\n",
       "  'trump_r',\n",
       "  'damage',\n",
       "  'clear',\n",
       "  'democrat',\n",
       "  'interested',\n",
       "  'precedent',\n",
       "  'process',\n",
       "  'goal',\n",
       "  'remove',\n",
       "  'trump_r',\n",
       "  'office',\n",
       "  'period'],\n",
       " ['dc',\n",
       "  'team',\n",
       "  'happy',\n",
       "  'help',\n",
       "  'theuso',\n",
       "  'afternoon',\n",
       "  'total',\n",
       "  'care',\n",
       "  'package',\n",
       "  'assemble',\n",
       "  'deployed',\n",
       "  'service',\n",
       "  'member',\n",
       "  'thank',\n",
       "  'defend',\n",
       "  'freedom',\n",
       "  'uso',\n",
       "  'force',\n",
       "  'armed',\n",
       "  'force',\n",
       "  'fl',\n",
       "  'fl']]"
      ]
     },
     "execution_count": 104,
     "metadata": {},
     "output_type": "execute_result"
    }
   ],
   "source": [
    "%%time\n",
    "# Process text\n",
    "tweets = [prep.twitter_preprocess(tweet) for tweet in tweets]\n",
    "\n",
    "for i in range(len(tweets)):\n",
    "    try:\n",
    "        tweets[i] = prep.tag_keywords('trump', tweets[i], labels[i])\n",
    "    except:\n",
    "        print('failed at '+ str(i))\n",
    "\n",
    "#tweets = [prep.spacy_lemmatizer(tweet) for tweet in tweets[0:100]]\n",
    "tweets = prep.multi_lemmatizer(tweets, threads = 6)\n",
    "tweets[0:5]"
   ]
  },
  {
   "cell_type": "code",
   "execution_count": 90,
   "metadata": {},
   "outputs": [],
   "source": [
    "from gensim.models import Word2Vec"
   ]
  },
  {
   "cell_type": "code",
   "execution_count": 106,
   "metadata": {},
   "outputs": [
    {
     "name": "stdout",
     "output_type": "stream",
     "text": [
      "CPU times: user 14.3 s, sys: 32.4 ms, total: 14.3 s\n",
      "Wall time: 6.34 s\n"
     ]
    }
   ],
   "source": [
    "%%time\n",
    "model = Word2Vec(tweets, window = 10)"
   ]
  },
  {
   "cell_type": "code",
   "execution_count": 107,
   "metadata": {},
   "outputs": [
    {
     "name": "stderr",
     "output_type": "stream",
     "text": [
      "/home/mike/anaconda3/lib/python3.7/site-packages/ipykernel_launcher.py:1: DeprecationWarning: Call to deprecated `__getitem__` (Method will be removed in 4.0.0, use self.wv.__getitem__() instead).\n",
      "  \"\"\"Entry point for launching an IPython kernel.\n"
     ]
    },
    {
     "data": {
      "text/plain": [
       "array([ 0.79283136, -3.7154915 ,  0.08634412, -0.6042187 ,  4.1088676 ,\n",
       "        1.3701674 , -2.320049  ,  0.6001312 ,  1.8058817 , -1.0399908 ,\n",
       "        0.5023474 ,  0.21205613, -2.4601932 , -0.8055681 ,  0.7982369 ,\n",
       "       -1.3374193 ,  0.53301424,  1.4107492 , -1.7609164 , -1.7289532 ,\n",
       "       -1.0723376 ,  0.48007962, -0.63902617,  1.8698964 , -0.24873242,\n",
       "       -2.4741359 , -4.144759  ,  0.524034  , -0.08972266, -3.8466797 ,\n",
       "        1.4974976 , -3.0499096 ,  1.0085543 , -0.05841605,  0.51457024,\n",
       "        2.0496285 ,  0.6672105 ,  1.6625658 ,  0.8009476 , -0.17432192,\n",
       "        0.2616174 , -1.154765  , -0.07201336,  1.4105059 ,  0.41660213,\n",
       "       -0.82416683,  0.9838408 , -0.6091365 ,  3.5399601 ,  1.7292374 ,\n",
       "        0.97638375,  1.4019309 , -1.201303  , -3.048656  , -1.3767214 ,\n",
       "        1.6087347 ,  2.2810743 ,  1.6823213 , -0.9131003 , -0.6242315 ,\n",
       "        1.1505653 ,  1.3358098 , -0.9933186 ,  0.4517339 ,  1.7934008 ,\n",
       "       -2.4477975 ,  1.9618927 , -1.7996788 , -1.6243473 ,  0.26023877,\n",
       "       -1.8682333 , -0.5713153 , -1.8741982 , -0.3997984 , -1.7856901 ,\n",
       "       -3.1152713 , -2.1022046 , -2.41494   , -1.0240296 , -1.5795724 ,\n",
       "       -1.0155679 ,  0.6915498 , -0.26210508, -0.947009  , -0.01872445,\n",
       "       -0.20880722, -3.0072987 ,  0.65343213,  3.0068815 , -2.9275703 ,\n",
       "       -0.24783036, -1.5654197 , -2.8735776 , -3.9402497 ,  3.4774346 ,\n",
       "        1.6144619 ,  2.4859989 ,  0.09601449, -1.2044775 ,  1.960794  ],\n",
       "      dtype=float32)"
      ]
     },
     "execution_count": 107,
     "metadata": {},
     "output_type": "execute_result"
    }
   ],
   "source": [
    "model['trump_r']"
   ]
  },
  {
   "cell_type": "code",
   "execution_count": 108,
   "metadata": {},
   "outputs": [
    {
     "name": "stderr",
     "output_type": "stream",
     "text": [
      "/home/mike/anaconda3/lib/python3.7/site-packages/ipykernel_launcher.py:1: DeprecationWarning: Call to deprecated `most_similar` (Method will be removed in 4.0.0, use self.wv.most_similar() instead).\n",
      "  \"\"\"Entry point for launching an IPython kernel.\n"
     ]
    },
    {
     "data": {
      "text/plain": [
       "[('president', 0.6234646439552307),\n",
       " ('obama', 0.558197021484375),\n",
       " ('obsession', 0.5475559234619141),\n",
       " ('volodymyr', 0.5462174415588379),\n",
       " ('vp', 0.5273219347000122),\n",
       " ('previous', 0.5213545560836792),\n",
       " ('joebiden', 0.5152336359024048),\n",
       " ('hunt', 0.5149193406105042),\n",
       " ('whitehouse', 0.5097262859344482),\n",
       " ('collusion', 0.5095348358154297)]"
      ]
     },
     "execution_count": 108,
     "metadata": {},
     "output_type": "execute_result"
    }
   ],
   "source": [
    "model.most_similar(positive=['trump_r'])"
   ]
  },
  {
   "cell_type": "code",
   "execution_count": 109,
   "metadata": {},
   "outputs": [
    {
     "name": "stderr",
     "output_type": "stream",
     "text": [
      "/home/mike/anaconda3/lib/python3.7/site-packages/ipykernel_launcher.py:1: DeprecationWarning: Call to deprecated `most_similar` (Method will be removed in 4.0.0, use self.wv.most_similar() instead).\n",
      "  \"\"\"Entry point for launching an IPython kernel.\n"
     ]
    },
    {
     "data": {
      "text/plain": [
       "[('outrageous', 0.63286292552948),\n",
       " ('reckless', 0.628778338432312),\n",
       " ('president', 0.6254245042800903),\n",
       " ('disgraceful', 0.6203300356864929),\n",
       " ('hellbent', 0.6150377988815308),\n",
       " ('obama', 0.611612856388092),\n",
       " ('immoral', 0.609902024269104),\n",
       " ('completely', 0.6080020666122437),\n",
       " ('betrayal', 0.6045030355453491),\n",
       " ('corruption', 0.6023545265197754)]"
      ]
     },
     "execution_count": 109,
     "metadata": {},
     "output_type": "execute_result"
    }
   ],
   "source": [
    "model.most_similar(positive=['trump_d'])"
   ]
  },
  {
   "cell_type": "code",
   "execution_count": 113,
   "metadata": {},
   "outputs": [
    {
     "name": "stderr",
     "output_type": "stream",
     "text": [
      "/home/mike/anaconda3/lib/python3.7/site-packages/ipykernel_launcher.py:1: DeprecationWarning: Call to deprecated `similarity` (Method will be removed in 4.0.0, use self.wv.similarity() instead).\n",
      "  \"\"\"Entry point for launching an IPython kernel.\n"
     ]
    },
    {
     "data": {
      "text/plain": [
       "0.5077271"
      ]
     },
     "execution_count": 113,
     "metadata": {},
     "output_type": "execute_result"
    }
   ],
   "source": [
    "model.similarity('trump_r', 'trump_d')"
   ]
  },
  {
   "cell_type": "code",
   "execution_count": 117,
   "metadata": {},
   "outputs": [
    {
     "name": "stderr",
     "output_type": "stream",
     "text": [
      "/home/mike/anaconda3/lib/python3.7/site-packages/ipykernel_launcher.py:1: DeprecationWarning: Call to deprecated `similarity` (Method will be removed in 4.0.0, use self.wv.similarity() instead).\n",
      "  \"\"\"Entry point for launching an IPython kernel.\n"
     ]
    },
    {
     "data": {
      "text/plain": [
       "0.4339764"
      ]
     },
     "execution_count": 117,
     "metadata": {},
     "output_type": "execute_result"
    }
   ],
   "source": [
    "model.similarity('trump_r', 'impeach')"
   ]
  },
  {
   "cell_type": "code",
   "execution_count": 116,
   "metadata": {},
   "outputs": [
    {
     "name": "stderr",
     "output_type": "stream",
     "text": [
      "/home/mike/anaconda3/lib/python3.7/site-packages/ipykernel_launcher.py:1: DeprecationWarning: Call to deprecated `similarity` (Method will be removed in 4.0.0, use self.wv.similarity() instead).\n",
      "  \"\"\"Entry point for launching an IPython kernel.\n"
     ]
    },
    {
     "data": {
      "text/plain": [
       "0.20758998"
      ]
     },
     "execution_count": 116,
     "metadata": {},
     "output_type": "execute_result"
    }
   ],
   "source": [
    "model.similarity('trump_d', 'impeach')"
   ]
  }
 ],
 "metadata": {
  "kernelspec": {
   "display_name": "Python 3",
   "language": "python",
   "name": "python3"
  },
  "language_info": {
   "codemirror_mode": {
    "name": "ipython",
    "version": 3
   },
   "file_extension": ".py",
   "mimetype": "text/x-python",
   "name": "python",
   "nbconvert_exporter": "python",
   "pygments_lexer": "ipython3",
   "version": "3.7.3"
  }
 },
 "nbformat": 4,
 "nbformat_minor": 4
}
