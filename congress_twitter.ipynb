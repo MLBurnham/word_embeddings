{
 "cells": [
  {
   "cell_type": "code",
   "execution_count": 103,
   "metadata": {},
   "outputs": [],
   "source": [
    "import tweepy\n",
    "import pandas as pd\n",
    "from keys import *"
   ]
  },
  {
   "cell_type": "code",
   "execution_count": 7,
   "metadata": {},
   "outputs": [],
   "source": [
    "auth = tweepy.OAuthHandler(consumer_key = consumer_key, consumer_secret = consumer_secret)\n",
    "auth.set_access_token(access_token, access_secret)\n",
    "api = tweepy.API(auth)"
   ]
  },
  {
   "cell_type": "code",
   "execution_count": 44,
   "metadata": {},
   "outputs": [],
   "source": [
    "cspan_congress = api.list_members(slug = \"members-of-congress\", owner_screen_name='CSPAN')"
   ]
  },
  {
   "cell_type": "code",
   "execution_count": 68,
   "metadata": {},
   "outputs": [],
   "source": [
    "%%time \n",
    "members = []\n",
    "for page in tweepy.Cursor(api.list_members, 'CSPAN', 'members-of-congress').items():\n",
    "    members.append(page)"
   ]
  },
  {
   "cell_type": "code",
   "execution_count": 104,
   "metadata": {},
   "outputs": [],
   "source": [
    "# Extract meta data\n",
    "screen_names = [mem.screen_name for mem in members]\n",
    "ids = [mem.id for mem in members]\n",
    "loc = [mem.location for mem in members]\n",
    "descrips = [mem.description for mem in members]\n",
    "urls = [mem.url for mem in members]\n",
    "followers = [mem.followers_count for mem in members]\n",
    "friends = [mem.friends_count for mem in members]\n",
    "status_counts = [mem.statuses_count for mem in members]\n",
    "\n",
    "meta_zip = zip(screen_names, ids, loc, descrips, urls, followers, friends, status_counts)\n",
    "congress_df = pd.DataFrame(list(meta_zip), \n",
    "                           columns = ['screen_name',\n",
    "                                       'id',\n",
    "                                       'location',\n",
    "                                       'description',\n",
    "                                       'url',\n",
    "                                       'followers',\n",
    "                                       'friends',\n",
    "                                       'status_counts'])"
   ]
  },
  {
   "cell_type": "code",
   "execution_count": 108,
   "metadata": {},
   "outputs": [],
   "source": [
    "congress_df.to_csv('congress_meta_data.csv', index = False)"
   ]
  }
 ],
 "metadata": {
  "kernelspec": {
   "display_name": "Python 3",
   "language": "python",
   "name": "python3"
  },
  "language_info": {
   "codemirror_mode": {
    "name": "ipython",
    "version": 3
   },
   "file_extension": ".py",
   "mimetype": "text/x-python",
   "name": "python",
   "nbconvert_exporter": "python",
   "pygments_lexer": "ipython3",
   "version": "3.7.3"
  }
 },
 "nbformat": 4,
 "nbformat_minor": 4
}
