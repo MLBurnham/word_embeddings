{
 "cells": [
  {
   "cell_type": "markdown",
   "metadata": {},
   "source": [
    "0. Configure environment\n",
    "\n",
    "    ~~a. Init git repo~~\n",
    "    \n",
    "    b. init remote repo\n",
    "    \n",
    "    c. set up virtual env\n",
    "    \n",
    "    d. Create README.md\n",
    "    \n",
    "1. Get list of all congress members\n",
    "\n",
    "    ~~a. Get keys and access tokens~~\n",
    "    \n",
    "    ~~b. put keys/tokens in a file~~\n",
    "    \n",
    "    c. pull cspan list: https://twitter.com/cspan/lists/members-of-congress/members?lang=en\n",
    "    \n",
    "2. scrape meta data for congress members\n",
    "    a. Fields: screen name, user id, about, party, gender, district\n",
    "3. Get troll data"
   ]
  },
  {
   "cell_type": "code",
   "execution_count": 5,
   "metadata": {},
   "outputs": [],
   "source": [
    "import tweepy\n",
    "from keys import *"
   ]
  },
  {
   "cell_type": "code",
   "execution_count": 7,
   "metadata": {},
   "outputs": [],
   "source": [
    "auth = tweepy.OAuthHandler(consumer_key = consumer_key, consumer_secret = consumer_secret)\n",
    "auth.set_access_token(access_token, access_secret)\n",
    "api = tweepy.API(auth)"
   ]
  }
 ],
 "metadata": {
  "kernelspec": {
   "display_name": "Python 3",
   "language": "python",
   "name": "python3"
  },
  "language_info": {
   "codemirror_mode": {
    "name": "ipython",
    "version": 3
   },
   "file_extension": ".py",
   "mimetype": "text/x-python",
   "name": "python",
   "nbconvert_exporter": "python",
   "pygments_lexer": "ipython3",
   "version": "3.7.3"
  }
 },
 "nbformat": 4,
 "nbformat_minor": 4
}
