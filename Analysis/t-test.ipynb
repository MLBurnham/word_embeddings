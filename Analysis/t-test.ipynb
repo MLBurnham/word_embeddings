{
 "cells": [
  {
   "cell_type": "markdown",
   "metadata": {},
   "source": [
    "# Define Environment"
   ]
  },
  {
   "cell_type": "code",
   "execution_count": 1,
   "metadata": {},
   "outputs": [],
   "source": [
    "import os\n",
    "os.chdir('C:/Users/Mike/Desktop/word_embeddings-master')\n",
    "import pandas as pd\n",
    "import pickle\n",
    "from gensim.models import Word2Vec\n",
    "from sklearn.decomposition import PCA\n",
    "import random\n",
    "\n",
    "os.chdir('./Text Processing')\n",
    "from TextPrep import TextPrep\n",
    "\n",
    "os.chdir('../Meta Data')\n",
    "from key_words import key_words_small, key_synonyms, base_words, base_synonyms\n",
    "from stop_words import stop_words\n",
    "os.chdir('..')"
   ]
  },
  {
   "cell_type": "code",
   "execution_count": 2,
   "metadata": {},
   "outputs": [],
   "source": [
    "# define functions for analyzing the word vectors\n",
    "# returns the cosine similarity of two words\n",
    "def cosine_sim(parser, keyword, text, labels):\n",
    "    # define tagged keywords. To generalize get a list of unique labels. loop through create a new variable for each label\n",
    "    keyword_r = keyword + '_r'\n",
    "    keyword_d = keyword + '_d'\n",
    "    \n",
    "    ptweets = []\n",
    "    for i in range(len(text)):\n",
    "        try:\n",
    "            ptweets.append(parser.tag_keywords(keyword, text[i], labels[i])) # tweets and labels are global variables. change to local\n",
    "        except Exception as e:\n",
    "            print(e)\n",
    "            print('failed at '+ keyword + str(i))\n",
    "            \n",
    "\n",
    "    # lemmatize\n",
    "    ptweets = parser.multi_lemmatizer(ptweets, threads = 16)\n",
    "\n",
    "    # drop single letters\n",
    "    for i in range(len(ptweets)):\n",
    "        ptweets[i] = [word for word in ptweets[i] if len(word) > 1]\n",
    "\n",
    "    # train and save word2vec\n",
    "    pmodel = Word2Vec(ptweets, window = 10, sg = 1)\n",
    "    \n",
    "    # return cosine similarity between the words\n",
    "    return pmodel.wv.similarity(keyword_r, keyword_d)"
   ]
  },
  {
   "cell_type": "code",
   "execution_count": 3,
   "metadata": {},
   "outputs": [],
   "source": [
    "# load in data\n",
    "meta_data = pd.read_csv('Meta Data/meta_data.csv')\n",
    "tweet_df = pd.read_csv('Data/aggregated_tweets.csv')\n",
    "# subset to tweets after oct 29\n",
    "tweet_df = tweet_df[tweet_df['created'] >= '2019-11-06']\n",
    "# merge data with meta data\n",
    "tweet_df = pd.merge(tweet_df, meta_data, how = 'inner', on = 'user_id')\n",
    "tweet_df = tweet_df[tweet_df.party.isin(['R', 'D'])].reset_index(drop=True)\n",
    "\n",
    "tweets = tweet_df['text']\n",
    "labels = tweet_df['party']\n",
    "\n",
    "# initialize parser for both keywords and base words\n",
    "keyprep = TextPrep(stopwords = stop_words, key_words = key_words_small, key_synonyms = key_synonyms)\n",
    "baseprep = TextPrep(stopwords = stop_words, key_words = base_words, key_synonyms = base_synonyms)"
   ]
  },
  {
   "cell_type": "code",
   "execution_count": 4,
   "metadata": {},
   "outputs": [
    {
     "name": "stdout",
     "output_type": "stream",
     "text": [
      "Wall time: 676 ms\n"
     ]
    }
   ],
   "source": [
    "%%time\n",
    "# preprocess text\n",
    "tweets = [keyprep.twitter_preprocess(tweet) for tweet in tweets]"
   ]
  },
  {
   "cell_type": "markdown",
   "metadata": {},
   "source": [
    "# Get cosine sim for key and base words"
   ]
  },
  {
   "cell_type": "code",
   "execution_count": 16,
   "metadata": {},
   "outputs": [
    {
     "name": "stdout",
     "output_type": "stream",
     "text": [
      "collusion\n"
     ]
    }
   ],
   "source": [
    "for word in key_words_small[5:6]:\n",
    "    print(word)"
   ]
  },
  {
   "cell_type": "code",
   "execution_count": 19,
   "metadata": {},
   "outputs": [
    {
     "name": "stdout",
     "output_type": "stream",
     "text": [
      "\"word 'collusion_d' not in vocabulary\"\n",
      "failed at collusion\n",
      "Wall time: 1min 9s\n"
     ]
    }
   ],
   "source": [
    "%%time\n",
    "# get cosine similarity for all words in the key word list\n",
    "keysim = []\n",
    "for word in key_words_small[5:6]:\n",
    "    try:\n",
    "        cosine = cosine_sim(parser = keyprep, keyword = word, text = tweets, labels = labels)\n",
    "        keysim.append(cosine)\n",
    "    except Exception as e:\n",
    "        print(e)\n",
    "        print('failed at ' + word)\n",
    "\n",
    "# Convert to dataframe\n",
    "#keysimdf = pd.DataFrame(data=list(zip(key_words_small[0:5], keysim)), columns = ['word', 'similarity'])\n",
    "#keysimdf.to_csv('keyword_similarity.csv', index = False)"
   ]
  },
  {
   "cell_type": "code",
   "execution_count": 28,
   "metadata": {},
   "outputs": [
    {
     "data": {
      "text/plain": [
       "[0.6810423, 0.51987475, 0.54324013, 0.82438076, 0.70095146]"
      ]
     },
     "execution_count": 28,
     "metadata": {},
     "output_type": "execute_result"
    }
   ],
   "source": [
    "keysim"
   ]
  },
  {
   "cell_type": "code",
   "execution_count": 8,
   "metadata": {},
   "outputs": [],
   "source": [
    "# # get cosine similarity for all words in the base word list\n",
    "basesim = []\n",
    "for word in base_words[0:5]:\n",
    "    cosine = cosine_sim(parser = baseprep, keyword = word, text = tweets, labels = labels)\n",
    "    basesim.append(cosine)\n",
    "\n",
    "# Convert to dataframe\n",
    "basesimdf = pd.DataFrame(data=list(zip(base_words[0:5], basesim)), columns = ['word', 'similarity'])\n",
    "basesimdf.to_csv('baseword_similarity.csv', index = False)"
   ]
  },
  {
   "cell_type": "markdown",
   "metadata": {},
   "source": [
    "# testing and dev"
   ]
  },
  {
   "cell_type": "code",
   "execution_count": 5,
   "metadata": {},
   "outputs": [],
   "source": [
    "import re"
   ]
  },
  {
   "cell_type": "code",
   "execution_count": 6,
   "metadata": {},
   "outputs": [],
   "source": [
    "# subset to democrat and republican tweets\n",
    "dems = tweet_df[tweet_df['party'] == 'D']\n",
    "demtext = dems['text']\n",
    "reps = tweet_df[tweet_df['party'] == 'R']\n",
    "reptext = reps['text']"
   ]
  },
  {
   "cell_type": "code",
   "execution_count": 7,
   "metadata": {},
   "outputs": [
    {
     "name": "stdout",
     "output_type": "stream",
     "text": [
      "abortion: 44\n",
      "administration: 557\n",
      "border: 104\n",
      "biden: 87\n",
      "conservative: 12\n",
      "collusion: 0\n",
      "clinton: 26\n",
      "campaignfinance: 7\n",
      "corrupt: 271\n",
      "court: 309\n",
      "climatechange: 242\n",
      "cnn: 81\n",
      "democrat: 546\n",
      "daca: 289\n",
      "economy: 317\n",
      "electoralcollege: 0\n",
      "education: 302\n",
      "fox: 35\n",
      "gun: 611\n",
      "god: 32\n",
      "gerrymander: 11\n",
      "healthcare: 622\n",
      "impeach: 972\n",
      "immigration: 96\n",
      "insurance: 205\n",
      "liberal: 32\n",
      "mueller: 12\n",
      "mikepence: 0\n",
      "mcconnell: 412\n",
      "mexico: 100\n",
      "media: 175\n",
      "news: 392\n",
      "obama: 37\n",
      "oil: 100\n",
      "president: 1720\n",
      "pelosi: 140\n",
      "police: 81\n",
      "republican: 612\n",
      "russia: 173\n",
      "religion: 14\n",
      "racist: 56\n",
      "refugee: 40\n",
      "sanders: 30\n",
      "socialist: 0\n",
      "scotus: 134\n",
      "tax: 314\n",
      "trump: 2239\n",
      "usmca: 29\n",
      "wall: 97\n",
      "wealth: 81\n",
      "welfare: 21\n",
      "warren: 31\n",
      "whitehouse: 19\n"
     ]
    }
   ],
   "source": [
    "# count instances of each word used by democrats\n",
    "for word in key_words_small:\n",
    "    count_text = []\n",
    "    for text in list(demtext):\n",
    "        if word in keyprep.key_synonyms.values():\n",
    "            count_text.append(keyprep.replace_synonyms(word, text))\n",
    "        else:\n",
    "            count_text.append(text)\n",
    "    dcount = str(len([text for text in count_text if re.search(word, text.lower())]))\n",
    "    print(word + ':' + ' ' + dcount)"
   ]
  },
  {
   "cell_type": "code",
   "execution_count": 8,
   "metadata": {},
   "outputs": [
    {
     "name": "stdout",
     "output_type": "stream",
     "text": [
      "abortion: 22\n",
      "administration: 116\n",
      "border: 133\n",
      "biden: 91\n",
      "conservative: 25\n",
      "collusion: 33\n",
      "clinton: 32\n",
      "campaignfinance: 0\n",
      "corrupt: 99\n",
      "court: 116\n",
      "climatechange: 6\n",
      "cnn: 26\n",
      "democrat: 1141\n",
      "daca: 6\n",
      "economy: 313\n",
      "electoralcollege: 0\n",
      "education: 76\n",
      "fox: 221\n",
      "gun: 48\n",
      "god: 126\n",
      "gerrymander: 0\n",
      "healthcare: 136\n",
      "impeach: 1686\n",
      "immigration: 33\n",
      "insurance: 25\n",
      "liberal: 59\n",
      "mueller: 24\n",
      "mikepence: 0\n",
      "mcconnell: 16\n",
      "mexico: 102\n",
      "media: 137\n",
      "news: 590\n",
      "obama: 95\n",
      "oil: 38\n",
      "president: 869\n",
      "pelosi: 377\n",
      "police: 59\n",
      "republican: 188\n",
      "russia: 115\n",
      "religion: 9\n",
      "racist: 1\n",
      "refugee: 3\n",
      "sanders: 5\n",
      "socialist: 32\n",
      "scotus: 2\n",
      "tax: 226\n",
      "trump: 1290\n",
      "usmca: 508\n",
      "wall: 69\n",
      "wealth: 16\n",
      "welfare: 6\n",
      "warren: 17\n",
      "whitehouse: 35\n"
     ]
    }
   ],
   "source": [
    "# count instances of each word used by republicans\n",
    "for word in key_words_small:\n",
    "    count_text = []\n",
    "    for text in list(reptext):\n",
    "        if word in keyprep.key_synonyms.values():\n",
    "            count_text.append(keyprep.replace_synonyms(word, text))\n",
    "        else:\n",
    "            count_text.append(text)\n",
    "    rcount = str(len([text for text in count_text if re.search(word, text.lower())]))\n",
    "    print(word + ':' + ' ' + rcount)"
   ]
  },
  {
   "cell_type": "code",
   "execution_count": 8,
   "metadata": {},
   "outputs": [
    {
     "name": "stdout",
     "output_type": "stream",
     "text": [
      "answer: 148, 250\n",
      "annual: 54, 125\n",
      "able: 617, 1694\n",
      "bring: 185, 313\n",
      "cancer: 33, 71\n",
      "come: 374, 740\n",
      "chance: 48, 119\n",
      " day : 318, 447\n",
      "entire: 82, 98\n",
      "far: 346, 296\n",
      "find: 99, 310\n",
      "go: 1374, 2398\n",
      "get: 801, 1421\n",
      "hear: 909, 1372\n",
      "help: 697, 1348\n",
      "host: 138, 281\n",
      "hold: 246, 606\n",
      " join : 244, 464\n",
      "look: 275, 374\n",
      "long: 315, 577\n",
      "like: 414, 778\n",
      "live: 551, 1096\n",
      "month: 181, 321\n",
      "matter: 65, 166\n",
      "member: 503, 863\n",
      "morning: 261, 353\n",
      "meet: 285, 490\n",
      "night: 212, 318\n",
      "near: 108, 242\n",
      "opportunity: 172, 320\n",
      "open: 172, 406\n",
      "plan: 147, 545\n",
      "place: 134, 437\n",
      "phone: 145, 135\n",
      "read: 281, 464\n",
      "receive: 156, 199\n",
      "recent: 133, 150\n",
      "sure: 556, 1349\n",
      "send: 81, 147\n",
      "share: 110, 245\n",
      "small: 175, 271\n",
      "staff: 129, 224\n",
      "shut: 39, 54\n",
      "thanksgiving: 9, 6\n",
      " thank : 230, 289\n",
      "think: 129, 198\n",
      "take: 357, 833\n",
      "today: 944, 1530\n",
      "talk: 273, 303\n",
      "weekend: 81, 139\n",
      " week : 235, 273\n",
      "yesterday: 158, 174\n"
     ]
    }
   ],
   "source": [
    "for word in base_words:\n",
    "    rcount = str(len(list(filter(lambda x: word in x, reptext))))\n",
    "    dcount = str(len(list(filter(lambda x: word in x, demtext))))\n",
    "    print(word + ':' + ' ' + rcount +', ' + dcount)"
   ]
  },
  {
   "cell_type": "code",
   "execution_count": 27,
   "metadata": {},
   "outputs": [
    {
     "data": {
      "text/plain": [
       "[\"Despite all the challenges facing our nation, Democrats have focused on nothing but getting rid of @realDonaldTrump since the day he was elected. \\r\\n\\r\\n❌They failed with collusion. \\r\\n❌They failed with the Mueller Report. \\r\\n❌And they're going to fail again with their #ShamImpeachment https://t.co/RC2x7EMLfr\",\n",
       " \"Devastating headline for Democrats:\\r\\n\\r\\n🚨 ‘No One Believes Anything’: Voters Worn Out by a Fog of Political News 🚨\\r\\n\\r\\nFrom collusion to obstruction of justice to abuse of power to quid pro quo to bribery/extortion, Democrats have cried 'wolf' too many times. https://t.co/aD7SSdbMdD\",\n",
       " 'The past three years have been marked by false and misleading stories and narratives to perpetuate the Democrats’ Russian collusion hoax and Ukrainian phone call hoax.\\r\\n\\r\\nIt’s time to end this sham against @realDonaldTrump and those who support him. https://t.co/6lh5wPA18s',\n",
       " '🚨 More collusion between Dems &amp; their star witnesses revealed:\\r\\n\\r\\nYovanovitch communicated with Democrat staff BEFORE the whistleblower report was even public &amp; then lied under oath trying to cover up the secret dealings.\\r\\n\\r\\nJust further proof this is rigged! https://t.co/DuPS75cvsF',\n",
       " 'Schiff said we’d hear from the whistleblower.\\r\\n\\r\\nBut when collusion between the whistleblower &amp; Schiff’s staff was revealed, he changed his tune.\\r\\n\\r\\nRepublicans requested the whistleblower as a witness in Schiff’s show hearings. Will he block him out to avoid people seeing the truth?',\n",
       " 'The republic can survive the truth about the Russia collusion folly, writes Holman W. Jenkins Jr. https://t.co/BualJvAoZy via @WSJ',\n",
       " '2019 is almost over, and we have managed to waste nearly all of it on a sham impeachment process. First it was collusion, then obstruction, and now quid pro quo. What will they come up with next?',\n",
       " 'No collusion. No obstruction. No quid pro quo.\\r\\n\\r\\nHow much longer will Democrats insult the American people’s intelligence with this sham impeachment exercise?',\n",
       " \"We finally have some clarity on when we'll get the long-awaited Justice Department IG report on #FISA abuse.\\r\\n\\r\\nHorowitz's report has the potential to blow the lid off the origins of the Russia collusion hoax and those in the #DeepState who conspired against @realDonaldTrump. https://t.co/M8JJWQMWv1\",\n",
       " 'After believing @RepAdamSchiff for 2+ years on phony Russia collusion, Democrats had the poor judgment to believe him again. They walked over the impeachment cliff as a whole party.\\r\\n\\r\\nNow they’re busted and America is calling their hand.\\r\\n\\r\\nSchiff should be investigated &amp; removed. https://t.co/ZHz46ZoEfw',\n",
       " \".@HouseDemocrats have thrown every accusation at @POTUS @realdonaldtrump they can conjure:\\r\\n \\r\\n— Russian collusion\\r\\n— Obstruction of justice\\r\\n— Quid pro quo \\r\\n— Bribery\\r\\n— Witness intimidation\\r\\n— High crimes and misdemeanors\\r\\n— Violating the emolument’s clause\\r\\n\\r\\nAll false...what's next?\",\n",
       " 'This Ukraine fairy tale is even more of a dud than the Russia collusion hoax, but desperate Dems call for desperate measures.\\r\\n\\r\\nAdam Schiff definitely does NOT want you to read &amp; RT this:\\r\\n\\r\\nhttps://t.co/29tEpHfQsu',\n",
       " 'In a desperate attempt to find an impeachment charge that will stick, Speaker Pelosi has moved the goalposts again: Russian collusion, obstruction of justice, quid pro quo, and now bribery? What will Democrats try next? https://t.co/AwERHEeL4M',\n",
       " 'If Democrats are accusing @realDonaldTrump of bribery b/c they think a new lie will float better in battlegrounds, they forget Americans already saw through Schiff’s lies about collusion &amp; the July 25 call. \\r\\n\\r\\nThe false narratives are worn out. \\r\\n\\r\\nAmericans’ patience is worn thin.',\n",
       " 'This will go well with the evidence of “Russian collusion” we also heard about https://t.co/V9BPp7CCpw',\n",
       " 'Setting aside the ridiculous spin here, tell me: who was Chairman Schiff speaking to when he spread Russian collusion conspiracy theories for 2 years? https://t.co/ARDeiUuTo0',\n",
       " 'Adam Schiff’s impeachment screen play isn’t turning out as he hoped. Act I was the Russia collusion hoax, which failed to give him his chosen ending. Then came Act II, the tall tale of Ukraine. \\r\\n\\r\\nThis sham inquiry is DC politics at its worst and Americans know it.',\n",
       " 'Lying to the American people has become a pattern for Adam Schiff. He claimed to have evidence of Russian collusion, read a fake transcript of President Trump\\'s phone call, and was caught red handed coordinating with the \"whistleblower.\"',\n",
       " 'Maxine Waters has called for impeachment since 2017. It was never about \"collusion\" or Ukraine; Democrats were always going to try to impeach President Trump.\\r\\nhttps://t.co/YJTIPRfTM2',\n",
       " 'Even The New York Times claims the Democrats are using this Ukraine hoax as a “do-over” for their failed Russian collusion narrative to bring down President @realDonaldTrump. https://t.co/6BZpWwU41e',\n",
       " 'Ah I see. Democrat witnesses are re-litigating Special Counsel report that found no collusion, no obstruction, after they put the country through 2 years of Hell because Donald Trump won an election. Still living in fantasy world of Collusion Delusion. Deja vu all over again!',\n",
       " \"I think there's a story there. How did this false narrative of Russian collusion with the @realdonaldtrump campaign even begin? https://t.co/za2hXFHl23\",\n",
       " 'Well it’s clear now, Schiff wanted to hide the fact that he clearly didn’t have the goods he was selling. Kind of like his Russia collusion claims. We need to end this #ShamImpeachment now. https://t.co/PTQO7PLEwK']"
      ]
     },
     "execution_count": 27,
     "metadata": {},
     "output_type": "execute_result"
    }
   ],
   "source": []
  },
  {
   "cell_type": "code",
   "execution_count": 27,
   "metadata": {},
   "outputs": [
    {
     "data": {
      "text/plain": [
       "False"
      ]
     },
     "execution_count": 27,
     "metadata": {},
     "output_type": "execute_result"
    }
   ],
   "source": [
    "'administration' in prep.key_synonyms"
   ]
  },
  {
   "cell_type": "code",
   "execution_count": 30,
   "metadata": {},
   "outputs": [
    {
     "name": "stdout",
     "output_type": "stream",
     "text": [
      "im live this morning on kfor with laceylett great talk on reducing prescription drug costs and my upcoming community conversations in oklahoma\n"
     ]
    }
   ],
   "source": [
    "if 'administration' in prep.key_synonyms:\n",
    "    print(prep.replace_synonyms('administration', tweets[0]))\n",
    "print(tweets[0])\n"
   ]
  }
 ],
 "metadata": {
  "kernelspec": {
   "display_name": "Python 3",
   "language": "python",
   "name": "python3"
  },
  "language_info": {
   "codemirror_mode": {
    "name": "ipython",
    "version": 3
   },
   "file_extension": ".py",
   "mimetype": "text/x-python",
   "name": "python",
   "nbconvert_exporter": "python",
   "pygments_lexer": "ipython3",
   "version": "3.7.1"
  }
 },
 "nbformat": 4,
 "nbformat_minor": 4
}
